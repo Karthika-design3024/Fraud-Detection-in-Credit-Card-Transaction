import streamlit as st
import pandas as pd
import numpy as np
import pickle

# Load trained XGBoost model
model = pickle.load(open('xgb_model.pkl', 'rb'))

# Title
st.title("Credit Card Fraud Detection App")

# Description
st.write("Enter transaction details below to predict if it's fraudulent or legitimate:")

# User inputs
amount = st.number_input("Transaction Amount (scaled)", value=0.0)
time = st.number_input("Transaction Time (scaled)", value=0.0)

# Enter V1 to V28 feature values
features = []
for i in range(1, 29):
    value = st.number_input(f'V{i}', value=0.0)
    features.append(value)

# Prediction button
if st.button("Predict Fraud"):
    # Prepare input for model
    data = np.array([[time] + features + [amount]])
    prediction = model.predict(data)

    if prediction[0] == 1:
        st.error("This transaction is predicted as **Fraudulent**!")
    else:
        st.success("This transaction is predicted as **Legitimate**.")

# Footer
st.write("---")
st.caption("Built with using Streamlit and XGBoost.")
